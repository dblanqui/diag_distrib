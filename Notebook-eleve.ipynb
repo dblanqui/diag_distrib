{
 "cells": [
  {
   "cell_type": "markdown",
   "metadata": {},
   "source": [
    "## Diagramme de distribution d’un couple acide-base"
   ]
  },
  {
   "cell_type": "markdown",
   "metadata": {},
   "source": [
    "<u>Consigne :</u><br>\n",
    "Compléter le commentaire et le code aux endroits du programme où cela est demandé."
   ]
  },
  {
   "cell_type": "code",
   "execution_count": null,
   "metadata": {},
   "outputs": [],
   "source": [
    "\"\"\"\n",
    "Activité de classe : tracé d'un diagramme de distribution\n",
    "Utilisation d'une boucle for\n",
    "@author: Cédric Baurens\n",
    "\"\"\"\n",
    "import matplotlib.pyplot as plt\n",
    "\n",
    "\n",
    "# on demande à l'utilisateur de saisir la valeur du pKA du couple\n",
    "pKA = float (input(\"Entrer le pKA du couple étudié: \"))\n",
    "\n",
    "\"\"\"----Création d'une liste \"pHlist\" qui contiendra les valeurs de pH pour lesquelles\n",
    " on calculera les pourcentages des formes acide et basique----\"\"\"\n",
    "\n",
    "pHlist=[]\n",
    "\n",
    "#la variable dpH sera l'intervalle entre deux valeurs successives de pH pour lesquelles seront effectués les calculs\n",
    "dpH = 1\n",
    "\n",
    "# N désigne le nombre total de valeurs de pH traitées\n",
    "N=int((14/dpH) +1)   # La fonction int(X) permet d'obtenir la partie entière d'un nombre X. X peut être une expression mathématique.\n",
    "                    #Si N n'est pas un entier, on ne peut pas utiliser la fonction range(N)\n",
    "\n",
    "\n",
    "for j in range(N):\n",
    "    pHlist.append(j*dpH)   #la fonction \"append()\" permet de rajouter des éléments dans une liste.\n",
    "                           #Cette liste contiendra des multiples de dpH\n",
    "\n",
    "\n",
    "AHlist=[] #liste qui contient les valeurs du pourcentage de la forme acide\n",
    "Alist=[] #liste qui contient les valeurs du pourcentage de la forme basique\n",
    "\n",
    "\n",
    "#----Calculs des pourcentages de AH et de A- pour chaque valeur du pH contenue dans la liste pHlist\n",
    "#utilisant une boucle \"for\"----\n",
    "\n",
    "for i in range(len(pHlist)):\n",
    "    AHlist.append(100*10**(pKA)/(10**(pHlist[i])+10**(pKA))) # COMPLETER LE COMMENTAIRE\n",
    "    #COMPLETER LE CODE POUR CALCULER LE POURCENTAGE DE LA FORME BASIQUE\n",
    "\n",
    "#----Tracés des courbes représentant les pourcentages en fonction du pH----\n",
    "plt.figure()\n",
    "plt.grid()\n",
    "plt.plot(pHlist,AHlist,'b',label=\"% de AH\")\n",
    "plt.plot(pHlist,Alist,'r',label=\"% de A-\")\n",
    "plt.legend()\n",
    "plt.xlabel(\"pH\")\n",
    "plt.ylabel(\"% des espèces\")\n",
    "plt.title(\"Diagramme de répartition des espèces d'un couple acide/base\")\n",
    "plt.show()"
   ]
  }
 ],
 "metadata": {
  "kernelspec": {
   "display_name": "Python 3",
   "language": "python",
   "name": "python3"
  },
  "language_info": {
   "codemirror_mode": {
    "name": "ipython",
    "version": 3
   },
   "file_extension": ".py",
   "mimetype": "text/x-python",
   "name": "python",
   "nbconvert_exporter": "python",
   "pygments_lexer": "ipython3",
   "version": "3.8.3"
  }
 },
 "nbformat": 4,
 "nbformat_minor": 4
}
